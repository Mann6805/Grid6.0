{
 "cells": [
  {
   "cell_type": "code",
   "execution_count": 4,
   "id": "e9913842-b112-4550-a80b-d4e73ece6be0",
   "metadata": {},
   "outputs": [],
   "source": [
    "import cv2\n",
    "import easyocr\n",
    "\n",
    "# Initialize video capture\n",
    "video = cv2.VideoCapture(0)\n",
    "video.set(3, 640)  # Set video width\n",
    "video.set(4, 480)  # Set video height\n",
    "\n",
    "# Initialize EasyOCR reader for Hindi and English\n",
    "reader = easyocr.Reader(['hi', 'en'], gpu=True)\n",
    "\n",
    "while True:\n",
    "    ret, frame = video.read()\n",
    "    # feed = cv2.flip(frame, 1)  # Flip the frame horizontally for a mirror effect\n",
    "\n",
    "    if ret:\n",
    "        # Perform OCR on the frame\n",
    "        result = reader.readtext(frame)\n",
    "        \n",
    "        # Loop through detected text\n",
    "        for detection in result:\n",
    "            # Bounding box coordinates\n",
    "            top_left = tuple([int(val) for val in detection[0][0]])\n",
    "            bottom_right = tuple([int(val) for val in detection[0][2]])\n",
    "            \n",
    "            # Draw rectangle around detected text\n",
    "            cv2.rectangle(frame, top_left, bottom_right, (0, 255, 0), 2)\n",
    "            \n",
    "            # Display the detected text above the rectangle\n",
    "            text = detection[1]\n",
    "            cv2.putText(frame, text, (top_left[0], top_left[1] - 10), cv2.FONT_HERSHEY_SIMPLEX, 0.7, (255, 0, 0), 2)\n",
    "\n",
    "        # Display the video feed with rectangles and text\n",
    "        cv2.imshow(\"Video\", frame)\n",
    "\n",
    "        # Exit on pressing 'q'\n",
    "        if cv2.waitKey(1) & 0xFF == ord('q'):\n",
    "            break\n",
    "    else:\n",
    "        break\n",
    "\n",
    "# Release the video capture object and close windows\n",
    "video.release()\n",
    "cv2.destroyAllWindows()\n"
   ]
  },
  {
   "cell_type": "code",
   "execution_count": null,
   "id": "2a7d88c3",
   "metadata": {},
   "outputs": [],
   "source": []
  }
 ],
 "metadata": {
  "kernelspec": {
   "display_name": "Python 3 (ipykernel)",
   "language": "python",
   "name": "python3"
  },
  "language_info": {
   "codemirror_mode": {
    "name": "ipython",
    "version": 3
   },
   "file_extension": ".py",
   "mimetype": "text/x-python",
   "name": "python",
   "nbconvert_exporter": "python",
   "pygments_lexer": "ipython3",
   "version": "3.12.4"
  }
 },
 "nbformat": 4,
 "nbformat_minor": 5
}
