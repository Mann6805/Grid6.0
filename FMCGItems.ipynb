{
 "cells": [
  {
   "cell_type": "code",
   "execution_count": 1,
   "id": "14515b76-20be-4525-bd83-9371a17ca014",
   "metadata": {},
   "outputs": [],
   "source": [
    "import os\n",
    "import pandas as pd\n",
    "import tensorflow as tf\n",
    "from tensorflow.keras.preprocessing.image import ImageDataGenerator"
   ]
  },
  {
   "cell_type": "code",
   "execution_count": 2,
   "id": "656d6fdf-b004-4aa2-9390-25f8d7e34bf7",
   "metadata": {},
   "outputs": [],
   "source": [
    "train_dir = './FMCG/train/images'\n",
    "csv_data = pd.read_csv('./FMCG/train/_classes.csv')\n",
    "IMG_SIZE = (128, 128)\n",
    "BATCH_SIZE = 32"
   ]
  },
  {
   "cell_type": "code",
   "execution_count": 3,
   "id": "a4b46ddd-fd1b-43b8-b712-b6585cad2783",
   "metadata": {},
   "outputs": [
    {
     "data": {
      "text/plain": [
       "Index(['filename', ' AfterShave', ' FabricBrightener', ' FaceMask',\n",
       "       ' Handwash', ' Lotion', ' Napkin', ' Oil', ' PetroliumJelly', ' Powder',\n",
       "       ' Soap', ' Sweetner', ' Toothpaste'],\n",
       "      dtype='object')"
      ]
     },
     "execution_count": 3,
     "metadata": {},
     "output_type": "execute_result"
    }
   ],
   "source": [
    "csv_data.columns"
   ]
  },
  {
   "cell_type": "code",
   "execution_count": 4,
   "id": "bfb74bef-51df-4ad7-86ac-deb3fa9e348c",
   "metadata": {},
   "outputs": [
    {
     "name": "stdout",
     "output_type": "stream",
     "text": [
      "Found 202 validated image filenames.\n"
     ]
    }
   ],
   "source": [
    "datagen = ImageDataGenerator(rescale=1./255)\n",
    "\n",
    "train_generator = datagen.flow_from_dataframe(\n",
    "    dataframe=csv_data,\n",
    "    directory=train_dir,\n",
    "    x_col='filename',\n",
    "    y_col=[' AfterShave', ' FabricBrightener', ' FaceMask', ' Handwash', ' Lotion', ' Napkin', ' Oil', ' PetroliumJelly', ' Powder', ' Soap', ' Sweetner', ' Toothpaste'],  # Keep the spaces\n",
    "    target_size=IMG_SIZE,\n",
    "    batch_size=BATCH_SIZE,\n",
    "    class_mode='raw',\n",
    "    shuffle=True\n",
    ")"
   ]
  },
  {
   "cell_type": "code",
   "execution_count": 5,
   "id": "cb4acc89-5094-408f-8ff0-49c4f651e1db",
   "metadata": {},
   "outputs": [],
   "source": [
    "test_dir = './FMCG/test/images'  # Path to test images\n",
    "test_csv = './FMCG/test/_classes.csv'  # CSV containing test filenames and labels\n",
    "\n",
    "test_data = pd.read_csv(test_csv)"
   ]
  },
  {
   "cell_type": "code",
   "execution_count": 6,
   "id": "d0bf1ffb-87b8-4e89-9582-1f8b82ec5d3d",
   "metadata": {},
   "outputs": [
    {
     "name": "stdout",
     "output_type": "stream",
     "text": [
      "Found 24 validated image filenames.\n"
     ]
    }
   ],
   "source": [
    "test_generator = datagen.flow_from_dataframe(\n",
    "    dataframe=test_data,\n",
    "    directory=test_dir,\n",
    "    y_col=[' AfterShave', ' FabricBrightener', ' FaceMask', ' Handwash', ' Lotion', ' Napkin', ' Oil', ' PetroliumJelly', ' Powder', ' Soap', ' Sweetner', ' Toothpaste'],  # Keep the spaces\n",
    "    target_size=IMG_SIZE,\n",
    "    batch_size=BATCH_SIZE,\n",
    "    class_mode='raw',  \n",
    "    shuffle=False \n",
    ")"
   ]
  },
  {
   "cell_type": "code",
   "execution_count": 22,
   "id": "96e3c594-70c2-460f-a923-d8838e6e5727",
   "metadata": {},
   "outputs": [
    {
     "name": "stderr",
     "output_type": "stream",
     "text": [
      "C:\\Users\\MANN\\anaconda3\\Lib\\site-packages\\keras\\src\\layers\\convolutional\\base_conv.py:107: UserWarning: Do not pass an `input_shape`/`input_dim` argument to a layer. When using Sequential models, prefer using an `Input(shape)` object as the first layer in the model instead.\n",
      "  super().__init__(activity_regularizer=activity_regularizer, **kwargs)\n"
     ]
    },
    {
     "name": "stdout",
     "output_type": "stream",
     "text": [
      "Epoch 1/25\n",
      "\u001b[1m7/7\u001b[0m \u001b[32m━━━━━━━━━━━━━━━━━━━━\u001b[0m\u001b[37m\u001b[0m \u001b[1m3s\u001b[0m 14ms/step - accuracy: 0.0742 - loss: 1.4266\n",
      "Epoch 2/25\n",
      "\u001b[1m7/7\u001b[0m \u001b[32m━━━━━━━━━━━━━━━━━━━━\u001b[0m\u001b[37m\u001b[0m \u001b[1m1s\u001b[0m 14ms/step - accuracy: 0.1103 - loss: 0.9383\n",
      "Epoch 3/25\n",
      "\u001b[1m7/7\u001b[0m \u001b[32m━━━━━━━━━━━━━━━━━━━━\u001b[0m\u001b[37m\u001b[0m \u001b[1m1s\u001b[0m 14ms/step - accuracy: 0.1461 - loss: 0.7069\n",
      "Epoch 4/25\n",
      "\u001b[1m7/7\u001b[0m \u001b[32m━━━━━━━━━━━━━━━━━━━━\u001b[0m\u001b[37m\u001b[0m \u001b[1m1s\u001b[0m 15ms/step - accuracy: 0.1771 - loss: 0.5943\n",
      "Epoch 5/25\n",
      "\u001b[1m7/7\u001b[0m \u001b[32m━━━━━━━━━━━━━━━━━━━━\u001b[0m\u001b[37m\u001b[0m \u001b[1m1s\u001b[0m 14ms/step - accuracy: 0.1840 - loss: 0.5278\n",
      "Epoch 6/25\n",
      "\u001b[1m7/7\u001b[0m \u001b[32m━━━━━━━━━━━━━━━━━━━━\u001b[0m\u001b[37m\u001b[0m \u001b[1m1s\u001b[0m 16ms/step - accuracy: 0.2241 - loss: 0.4591\n",
      "Epoch 7/25\n",
      "\u001b[1m7/7\u001b[0m \u001b[32m━━━━━━━━━━━━━━━━━━━━\u001b[0m\u001b[37m\u001b[0m \u001b[1m1s\u001b[0m 14ms/step - accuracy: 0.2914 - loss: 0.4378\n",
      "Epoch 8/25\n",
      "\u001b[1m7/7\u001b[0m \u001b[32m━━━━━━━━━━━━━━━━━━━━\u001b[0m\u001b[37m\u001b[0m \u001b[1m1s\u001b[0m 16ms/step - accuracy: 0.3285 - loss: 0.3951\n",
      "Epoch 9/25\n",
      "\u001b[1m7/7\u001b[0m \u001b[32m━━━━━━━━━━━━━━━━━━━━\u001b[0m\u001b[37m\u001b[0m \u001b[1m1s\u001b[0m 14ms/step - accuracy: 0.3740 - loss: 0.3837\n",
      "Epoch 10/25\n",
      "\u001b[1m7/7\u001b[0m \u001b[32m━━━━━━━━━━━━━━━━━━━━\u001b[0m\u001b[37m\u001b[0m \u001b[1m1s\u001b[0m 14ms/step - accuracy: 0.3936 - loss: 0.3705\n",
      "Epoch 11/25\n",
      "\u001b[1m7/7\u001b[0m \u001b[32m━━━━━━━━━━━━━━━━━━━━\u001b[0m\u001b[37m\u001b[0m \u001b[1m1s\u001b[0m 15ms/step - accuracy: 0.4233 - loss: 0.3562\n",
      "Epoch 12/25\n",
      "\u001b[1m7/7\u001b[0m \u001b[32m━━━━━━━━━━━━━━━━━━━━\u001b[0m\u001b[37m\u001b[0m \u001b[1m1s\u001b[0m 14ms/step - accuracy: 0.5049 - loss: 0.3460\n",
      "Epoch 13/25\n",
      "\u001b[1m7/7\u001b[0m \u001b[32m━━━━━━━━━━━━━━━━━━━━\u001b[0m\u001b[37m\u001b[0m \u001b[1m1s\u001b[0m 14ms/step - accuracy: 0.4097 - loss: 0.3472\n",
      "Epoch 14/25\n",
      "\u001b[1m7/7\u001b[0m \u001b[32m━━━━━━━━━━━━━━━━━━━━\u001b[0m\u001b[37m\u001b[0m \u001b[1m1s\u001b[0m 14ms/step - accuracy: 0.5741 - loss: 0.3370\n",
      "Epoch 15/25\n",
      "\u001b[1m7/7\u001b[0m \u001b[32m━━━━━━━━━━━━━━━━━━━━\u001b[0m\u001b[37m\u001b[0m \u001b[1m1s\u001b[0m 14ms/step - accuracy: 0.5706 - loss: 0.3060\n",
      "Epoch 16/25\n",
      "\u001b[1m7/7\u001b[0m \u001b[32m━━━━━━━━━━━━━━━━━━━━\u001b[0m\u001b[37m\u001b[0m \u001b[1m1s\u001b[0m 15ms/step - accuracy: 0.6515 - loss: 0.2925\n",
      "Epoch 17/25\n",
      "\u001b[1m7/7\u001b[0m \u001b[32m━━━━━━━━━━━━━━━━━━━━\u001b[0m\u001b[37m\u001b[0m \u001b[1m1s\u001b[0m 14ms/step - accuracy: 0.5803 - loss: 0.3080\n",
      "Epoch 18/25\n",
      "\u001b[1m7/7\u001b[0m \u001b[32m━━━━━━━━━━━━━━━━━━━━\u001b[0m\u001b[37m\u001b[0m \u001b[1m1s\u001b[0m 14ms/step - accuracy: 0.6231 - loss: 0.3016\n",
      "Epoch 19/25\n",
      "\u001b[1m7/7\u001b[0m \u001b[32m━━━━━━━━━━━━━━━━━━━━\u001b[0m\u001b[37m\u001b[0m \u001b[1m1s\u001b[0m 14ms/step - accuracy: 0.6880 - loss: 0.2977\n",
      "Epoch 20/25\n",
      "\u001b[1m7/7\u001b[0m \u001b[32m━━━━━━━━━━━━━━━━━━━━\u001b[0m\u001b[37m\u001b[0m \u001b[1m1s\u001b[0m 14ms/step - accuracy: 0.6469 - loss: 0.3000\n",
      "Epoch 21/25\n",
      "\u001b[1m7/7\u001b[0m \u001b[32m━━━━━━━━━━━━━━━━━━━━\u001b[0m\u001b[37m\u001b[0m \u001b[1m1s\u001b[0m 14ms/step - accuracy: 0.7400 - loss: 0.2803\n",
      "Epoch 22/25\n",
      "\u001b[1m7/7\u001b[0m \u001b[32m━━━━━━━━━━━━━━━━━━━━\u001b[0m\u001b[37m\u001b[0m \u001b[1m1s\u001b[0m 14ms/step - accuracy: 0.7203 - loss: 0.2809\n",
      "Epoch 23/25\n",
      "\u001b[1m7/7\u001b[0m \u001b[32m━━━━━━━━━━━━━━━━━━━━\u001b[0m\u001b[37m\u001b[0m \u001b[1m1s\u001b[0m 15ms/step - accuracy: 0.7884 - loss: 0.2698\n",
      "Epoch 24/25\n",
      "\u001b[1m7/7\u001b[0m \u001b[32m━━━━━━━━━━━━━━━━━━━━\u001b[0m\u001b[37m\u001b[0m \u001b[1m1s\u001b[0m 14ms/step - accuracy: 0.8326 - loss: 0.2631\n",
      "Epoch 25/25\n",
      "\u001b[1m7/7\u001b[0m \u001b[32m━━━━━━━━━━━━━━━━━━━━\u001b[0m\u001b[37m\u001b[0m \u001b[1m1s\u001b[0m 14ms/step - accuracy: 0.8355 - loss: 0.2510\n"
     ]
    }
   ],
   "source": [
    "import tensorflow as tf\n",
    "from tensorflow.keras import regularizers\n",
    "\n",
    "# Define a smaller CNN model with reduced L1 and L2 regularization\n",
    "model = tf.keras.models.Sequential([\n",
    "    tf.keras.layers.Conv2D(8, (3, 3), activation='relu', input_shape=(128, 128, 3)),  # Reduced filters\n",
    "    tf.keras.layers.MaxPooling2D(2, 2),\n",
    "    \n",
    "    tf.keras.layers.Conv2D(16, (3, 3), activation='relu'),  # Reduced filters\n",
    "    tf.keras.layers.MaxPooling2D(2, 2),\n",
    "    \n",
    "    tf.keras.layers.Flatten(),\n",
    "    tf.keras.layers.Dense(64, activation='relu', \n",
    "                          kernel_regularizer=regularizers.l1_l2(l1=0.0001, l2=0.0001)),  # Reduced L1 & L2 regularization\n",
    "    tf.keras.layers.Dropout(0.3),  # Reduced dropout rate\n",
    "    tf.keras.layers.Dense(12, activation='sigmoid', \n",
    "                          kernel_regularizer=regularizers.l1_l2(l1=0.0001, l2=0.0001))  # Reduced L1 & L2 regularization\n",
    "])\n",
    "\n",
    "# Compile the model\n",
    "model.compile(optimizer='adam', loss='binary_crossentropy', metrics=['accuracy'])\n",
    "\n",
    "# Train the model with validation data (no early stopping)\n",
    "history = model.fit(\n",
    "    train_generator,\n",
    "    epochs=25\n",
    ")"
   ]
  },
  {
   "cell_type": "code",
   "execution_count": 24,
   "id": "02cf8ff1-5721-43ca-92e0-0a89ac4d29a3",
   "metadata": {},
   "outputs": [
    {
     "name": "stdout",
     "output_type": "stream",
     "text": [
      "\u001b[1m1/1\u001b[0m \u001b[32m━━━━━━━━━━━━━━━━━━━━\u001b[0m\u001b[37m\u001b[0m \u001b[1m0s\u001b[0m 121ms/step - accuracy: 0.4583 - loss: 0.3602\n",
      "Test Loss: 0.36024370789527893, Test Accuracy: 0.4583333432674408\n"
     ]
    }
   ],
   "source": [
    "loss, accuracy = model.evaluate(test_generator)\n",
    "print(f'Test Loss: {loss}, Test Accuracy: {accuracy}')"
   ]
  },
  {
   "cell_type": "code",
   "execution_count": 25,
   "id": "12605203-3a18-4c40-84f5-a4ddefdaf794",
   "metadata": {},
   "outputs": [
    {
     "name": "stdout",
     "output_type": "stream",
     "text": [
      "\u001b[1m1/1\u001b[0m \u001b[32m━━━━━━━━━━━━━━━━━━━━\u001b[0m\u001b[37m\u001b[0m \u001b[1m0s\u001b[0m 173ms/step\n"
     ]
    }
   ],
   "source": [
    "predictions = model.predict(test_generator)\n",
    "predicted_classes = predictions.argmax(axis=-1)"
   ]
  },
  {
   "cell_type": "code",
   "execution_count": 26,
   "id": "b253cef1-02ad-4e95-9231-b6ef80c0cfbe",
   "metadata": {},
   "outputs": [
    {
     "name": "stdout",
     "output_type": "stream",
     "text": [
      "Filename: images-1-_jpeg.rf.27fd9e5aa4f310481f20e23895d9d15c.jpg, Predicted Class:  Oil\n",
      "Filename: download-5-_jpeg.rf.9b69ce4dbbb2058f38d42ec41caeb398.jpg, Predicted Class:  PetroliumJelly\n",
      "Filename: images_jpeg.rf.6a81f460b00de4513ede32c01948f2fb.jpg, Predicted Class:  Soap\n",
      "Filename: hq720_jpg.rf.452a8276c4b12dd07d2c472c2b332ddd.jpg, Predicted Class:  Toothpaste\n",
      "Filename: download_jpeg.rf.b3edaf1cfb9702849cf424e9b5b3ee44.jpg, Predicted Class:  AfterShave\n",
      "Filename: download-9-_jpeg.rf.9de97aa023aa35128ba21b33160d83ae.jpg, Predicted Class:  Napkin\n",
      "Filename: 8941100501214_jpg.rf.9e879b8637215a9e7b9a8fcd4ba4a70a.jpg, Predicted Class:  Toothpaste\n",
      "Filename: chamak-top-img-new-update-2023_png.rf.3519ad81a56c7b9c87895fd3bd19c9f6.jpg, Predicted Class:  Lotion\n",
      "Filename: OOJ44hHIeX6fowKcTrMoQj56fXi7xkZiRl7FvqkA_jpg.rf.c7ad5a7ce486556eefd9563745559c69.jpg, Predicted Class:  Lotion\n",
      "Filename: 8def6e4622fca704e114c6785f3013dd_jpg.rf.1de911766e40fe266d60b5df7ae23c13.jpg, Predicted Class:  Lotion\n",
      "Filename: download-1-_jpeg.rf.6a6944ecb69647f0d23827f709ad36a7.jpg, Predicted Class:  PetroliumJelly\n",
      "Filename: sepnil-face-mask-1-box-50-pcs_jpeg.rf.267e9033ab03c54a43a3d8e3f950a88c.jpg, Predicted Class:  Handwash\n",
      "Filename: download-2-_jpeg.rf.e7f89824838786f92be409eaaa2178ee.jpg, Predicted Class:  PetroliumJelly\n",
      "Filename: decf4ca0-b014-11ec-8899-157ef56a6181_png.rf.bfbae422050b89b9c08e2c80e915b9ff.jpg, Predicted Class:  FabricBrightener\n",
      "Filename: 2966c5076c111bc300e25572771c8c2f_jpg.rf.cae643a63a99c3ed43e086fc1e8a096f.jpg, Predicted Class:  Handwash\n",
      "Filename: 5_jpg.rf.685bf938e5c3fa08f4e3bdd2e093830e.jpg, Predicted Class:  Handwash\n",
      "Filename: download-4-_jpeg.rf.af782f22934abae6ba87452f7207f4f8.jpg, Predicted Class:  PetroliumJelly\n",
      "Filename: 5aaccf3f7ca370b63c72e765ca9e33bb_jpg.rf.174f34668b62efca9f1285f7f9706a71.jpg, Predicted Class:  AfterShave\n",
      "Filename: Savlon-Instant-Hand-Sanitizer-50-ml_png.rf.6a4f78bc1c8bf8a9d61d42fa0b02b6e4.jpg, Predicted Class:  Handwash\n",
      "Filename: images-1-_jpeg.rf.16e2757c84aaa9a7d96503a661d0ff81.jpg, Predicted Class:  Toothpaste\n",
      "Filename: download_jpeg.rf.db38f0e70e84aa02e8dfb7b359d8d121.jpg, Predicted Class:  Handwash\n",
      "Filename: download-3-_jpeg.rf.719e8f88b7a2d12d6e7c78f05841a960.jpg, Predicted Class:  PetroliumJelly\n",
      "Filename: download_jpeg.rf.6d1371654b9a5e4275b08ad5c995a180.jpg, Predicted Class:  Powder\n",
      "Filename: c3111668d2ec202767d4ecff17b0b3c9_jpg.rf.c6e36a7f6a8d39c05dd08b2262065f30.jpg, Predicted Class:  Soap\n"
     ]
    }
   ],
   "source": [
    "class_labels = [' AfterShave', ' FabricBrightener', ' FaceMask', ' Handwash', ' Lotion', ' Napkin', ' Oil', ' PetroliumJelly', ' Powder', ' Soap', ' Sweetner', ' Toothpaste']  # Keep the spaces\n",
    "    \n",
    "\n",
    "predicted_class_names = [class_labels[predicted_index] for predicted_index in predicted_classes]\n",
    "\n",
    "for filename, predicted_class in zip(test_data['filename'], predicted_class_names):\n",
    "    print(f'Filename: {filename}, Predicted Class: {predicted_class}')"
   ]
  },
  {
   "cell_type": "code",
   "execution_count": null,
   "id": "c6c3a486-dfc0-41ae-b245-2764bedb0e05",
   "metadata": {},
   "outputs": [],
   "source": [
    "model.save('FMCG.h5')"
   ]
  },
  {
   "cell_type": "code",
   "execution_count": null,
   "id": "7d086b02-9fbd-4143-96d0-99d9563485a3",
   "metadata": {},
   "outputs": [],
   "source": []
  }
 ],
 "metadata": {
  "kernelspec": {
   "display_name": "Python 3 (ipykernel)",
   "language": "python",
   "name": "python3"
  },
  "language_info": {
   "codemirror_mode": {
    "name": "ipython",
    "version": 3
   },
   "file_extension": ".py",
   "mimetype": "text/x-python",
   "name": "python",
   "nbconvert_exporter": "python",
   "pygments_lexer": "ipython3",
   "version": "3.12.4"
  }
 },
 "nbformat": 4,
 "nbformat_minor": 5
}
