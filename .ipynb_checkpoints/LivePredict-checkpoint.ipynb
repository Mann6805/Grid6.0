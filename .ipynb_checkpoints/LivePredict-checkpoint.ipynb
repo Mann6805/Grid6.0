{
 "cells": [
  {
   "cell_type": "code",
   "execution_count": null,
   "id": "f2f95a3e-eca0-4af0-9b2d-ba0693e94aaf",
   "metadata": {},
   "outputs": [],
   "source": [
    "import os\n",
    "import pandas as pd\n",
    "import numpy as np\n",
    "import cv2\n",
    "import tensorflow as tf\n",
    "from tensorflow.keras.preprocessing.image import ImageDataGenerator\n",
    "\n",
    "# Load the trained model\n",
    "model = tf.keras.models.load_model('grocery.h5')  # Adjust this to your model path\n",
    "\n",
    "# Define constants\n",
    "IMG_SIZE = (128, 128)\n",
    "\n",
    "# Function to preprocess the input frame\n",
    "def preprocess_frame(frame):\n",
    "    # Resize to the model's input size\n",
    "    resized_frame = cv2.resize(frame, IMG_SIZE)\n",
    "    # Normalize the pixel values\n",
    "    normalized_frame = resized_frame / 255.0\n",
    "    # Add batch dimension\n",
    "    return np.expand_dims(normalized_frame, axis=0)\n",
    "\n",
    "# Capture video from webcam\n",
    "cap = cv2.VideoCapture(0)\n",
    "\n",
    "while True:\n",
    "    ret, frame = cap.read()\n",
    "    if not ret:\n",
    "        break\n",
    "\n",
    "    # Preprocess the frame\n",
    "    input_data = preprocess_frame(frame)\n",
    "\n",
    "    # Make predictions\n",
    "    predictions = model.predict(input_data)\n",
    "    predicted_class = np.argmax(predictions, axis=-1)\n",
    "\n",
    "    # Class labels\n",
    "    class_labels = [' apple', ' instant_noodle', ' juice', ' orange', ' sandwich']\n",
    "    predicted_class_name = class_labels[predicted_class[0]]\n",
    "\n",
    "    # Display the predictions on the frame\n",
    "    cv2.putText(frame, f'Predicted Class: {predicted_class_name}', (10, 30), \n",
    "                cv2.FONT_HERSHEY_SIMPLEX, 1, (255, 0, 0), 2, cv2.LINE_AA)\n",
    "\n",
    "    # Show the frame with predictions\n",
    "    cv2.imshow('Live Object Classification', frame)\n",
    "\n",
    "    # Break the loop on 'q' key press\n",
    "    if cv2.waitKey(1) & 0xFF == ord('q'):\n",
    "        break\n",
    "\n",
    "# Release the video capture and close windows\n",
    "cap.release()\n",
    "cv2.destroyAllWindows()\n"
   ]
  }
 ],
 "metadata": {
  "kernelspec": {
   "display_name": "Python 3 (ipykernel)",
   "language": "python",
   "name": "python3"
  },
  "language_info": {
   "codemirror_mode": {
    "name": "ipython",
    "version": 3
   },
   "file_extension": ".py",
   "mimetype": "text/x-python",
   "name": "python",
   "nbconvert_exporter": "python",
   "pygments_lexer": "ipython3",
   "version": "3.12.4"
  }
 },
 "nbformat": 4,
 "nbformat_minor": 5
}
