{
 "cells": [
  {
   "cell_type": "code",
   "execution_count": 1,
   "id": "14515b76-20be-4525-bd83-9371a17ca014",
   "metadata": {},
   "outputs": [],
   "source": [
    "import os\n",
    "import pandas as pd\n",
    "import tensorflow as tf\n",
    "from tensorflow.keras.preprocessing.image import ImageDataGenerator"
   ]
  },
  {
   "cell_type": "code",
   "execution_count": 2,
   "id": "656d6fdf-b004-4aa2-9390-25f8d7e34bf7",
   "metadata": {},
   "outputs": [],
   "source": [
    "train_dir = './FMCG/train/images'\n",
    "csv_data = pd.read_csv('./FMCG/train/_classes.csv')\n",
    "IMG_SIZE = (128, 128)\n",
    "BATCH_SIZE = 32"
   ]
  },
  {
   "cell_type": "code",
   "execution_count": 3,
   "id": "a4b46ddd-fd1b-43b8-b712-b6585cad2783",
   "metadata": {},
   "outputs": [
    {
     "data": {
      "text/plain": [
       "Index(['filename', ' AfterShave', ' FabricBrightener', ' FaceMask',\n",
       "       ' Handwash', ' Lotion', ' Napkin', ' Oil', ' PetroliumJelly', ' Powder',\n",
       "       ' Soap', ' Sweetner', ' Toothpaste'],\n",
       "      dtype='object')"
      ]
     },
     "execution_count": 3,
     "metadata": {},
     "output_type": "execute_result"
    }
   ],
   "source": [
    "csv_data.columns"
   ]
  },
  {
   "cell_type": "code",
   "execution_count": 4,
   "id": "bfb74bef-51df-4ad7-86ac-deb3fa9e348c",
   "metadata": {},
   "outputs": [
    {
     "name": "stdout",
     "output_type": "stream",
     "text": [
      "Found 202 validated image filenames.\n"
     ]
    }
   ],
   "source": [
    "datagen = ImageDataGenerator(rescale=1./255)\n",
    "\n",
    "train_generator = datagen.flow_from_dataframe(\n",
    "    dataframe=csv_data,\n",
    "    directory=train_dir,\n",
    "    x_col='filename',\n",
    "    y_col=[' AfterShave', ' FabricBrightener', ' FaceMask', ' Handwash', ' Lotion', ' Napkin', ' Oil', ' PetroliumJelly', ' Powder', ' Soap', ' Sweetner', ' Toothpaste'],  # Keep the spaces\n",
    "    target_size=IMG_SIZE,\n",
    "    batch_size=BATCH_SIZE,\n",
    "    class_mode='raw',\n",
    "    shuffle=True\n",
    ")"
   ]
  },
  {
   "cell_type": "code",
   "execution_count": 5,
   "id": "cb4acc89-5094-408f-8ff0-49c4f651e1db",
   "metadata": {},
   "outputs": [],
   "source": [
    "test_dir = './FMCG/test/images'  # Path to test images\n",
    "test_csv = './FMCG/test/_classes.csv'  # CSV containing test filenames and labels\n",
    "\n",
    "test_data = pd.read_csv(test_csv)"
   ]
  },
  {
   "cell_type": "code",
   "execution_count": 6,
   "id": "d0bf1ffb-87b8-4e89-9582-1f8b82ec5d3d",
   "metadata": {},
   "outputs": [
    {
     "name": "stdout",
     "output_type": "stream",
     "text": [
      "Found 24 validated image filenames.\n"
     ]
    }
   ],
   "source": [
    "test_generator = datagen.flow_from_dataframe(\n",
    "    dataframe=test_data,\n",
    "    directory=test_dir,\n",
    "    y_col=[' AfterShave', ' FabricBrightener', ' FaceMask', ' Handwash', ' Lotion', ' Napkin', ' Oil', ' PetroliumJelly', ' Powder', ' Soap', ' Sweetner', ' Toothpaste'],  # Keep the spaces\n",
    "    target_size=IMG_SIZE,\n",
    "    batch_size=BATCH_SIZE,\n",
    "    class_mode='raw',  \n",
    "    shuffle=False \n",
    ")"
   ]
  },
  {
   "cell_type": "code",
   "execution_count": 51,
   "id": "96e3c594-70c2-460f-a923-d8838e6e5727",
   "metadata": {},
   "outputs": [
    {
     "name": "stdout",
     "output_type": "stream",
     "text": [
      "Epoch 1/25\n",
      "\u001b[1m7/7\u001b[0m \u001b[32m━━━━━━━━━━━━━━━━━━━━\u001b[0m\u001b[37m\u001b[0m \u001b[1m8s\u001b[0m 61ms/step - accuracy: 0.1187 - loss: 0.5351\n",
      "Epoch 2/25\n",
      "\u001b[1m7/7\u001b[0m \u001b[32m━━━━━━━━━━━━━━━━━━━━\u001b[0m\u001b[37m\u001b[0m \u001b[1m2s\u001b[0m 65ms/step - accuracy: 0.2315 - loss: 0.2978\n",
      "Epoch 3/25\n",
      "\u001b[1m7/7\u001b[0m \u001b[32m━━━━━━━━━━━━━━━━━━━━\u001b[0m\u001b[37m\u001b[0m \u001b[1m2s\u001b[0m 62ms/step - accuracy: 0.3181 - loss: 0.2729\n",
      "Epoch 4/25\n",
      "\u001b[1m7/7\u001b[0m \u001b[32m━━━━━━━━━━━━━━━━━━━━\u001b[0m\u001b[37m\u001b[0m \u001b[1m2s\u001b[0m 67ms/step - accuracy: 0.5288 - loss: 0.2248\n",
      "Epoch 5/25\n",
      "\u001b[1m7/7\u001b[0m \u001b[32m━━━━━━━━━━━━━━━━━━━━\u001b[0m\u001b[37m\u001b[0m \u001b[1m2s\u001b[0m 62ms/step - accuracy: 0.4892 - loss: 0.2071\n",
      "Epoch 6/25\n",
      "\u001b[1m7/7\u001b[0m \u001b[32m━━━━━━━━━━━━━━━━━━━━\u001b[0m\u001b[37m\u001b[0m \u001b[1m2s\u001b[0m 65ms/step - accuracy: 0.6477 - loss: 0.1737\n",
      "Epoch 7/25\n",
      "\u001b[1m7/7\u001b[0m \u001b[32m━━━━━━━━━━━━━━━━━━━━\u001b[0m\u001b[37m\u001b[0m \u001b[1m2s\u001b[0m 61ms/step - accuracy: 0.7309 - loss: 0.1474\n",
      "Epoch 8/25\n",
      "\u001b[1m7/7\u001b[0m \u001b[32m━━━━━━━━━━━━━━━━━━━━\u001b[0m\u001b[37m\u001b[0m \u001b[1m2s\u001b[0m 69ms/step - accuracy: 0.7417 - loss: 0.1358\n",
      "Epoch 9/25\n",
      "\u001b[1m7/7\u001b[0m \u001b[32m━━━━━━━━━━━━━━━━━━━━\u001b[0m\u001b[37m\u001b[0m \u001b[1m2s\u001b[0m 63ms/step - accuracy: 0.8648 - loss: 0.1151\n",
      "Epoch 10/25\n",
      "\u001b[1m7/7\u001b[0m \u001b[32m━━━━━━━━━━━━━━━━━━━━\u001b[0m\u001b[37m\u001b[0m \u001b[1m2s\u001b[0m 69ms/step - accuracy: 0.9066 - loss: 0.1036\n",
      "Epoch 11/25\n",
      "\u001b[1m7/7\u001b[0m \u001b[32m━━━━━━━━━━━━━━━━━━━━\u001b[0m\u001b[37m\u001b[0m \u001b[1m2s\u001b[0m 70ms/step - accuracy: 0.9331 - loss: 0.0954\n",
      "Epoch 12/25\n",
      "\u001b[1m7/7\u001b[0m \u001b[32m━━━━━━━━━━━━━━━━━━━━\u001b[0m\u001b[37m\u001b[0m \u001b[1m2s\u001b[0m 66ms/step - accuracy: 0.9437 - loss: 0.0834\n",
      "Epoch 13/25\n",
      "\u001b[1m7/7\u001b[0m \u001b[32m━━━━━━━━━━━━━━━━━━━━\u001b[0m\u001b[37m\u001b[0m \u001b[1m2s\u001b[0m 61ms/step - accuracy: 0.9739 - loss: 0.0743\n",
      "Epoch 14/25\n",
      "\u001b[1m7/7\u001b[0m \u001b[32m━━━━━━━━━━━━━━━━━━━━\u001b[0m\u001b[37m\u001b[0m \u001b[1m2s\u001b[0m 65ms/step - accuracy: 0.8917 - loss: 0.0772\n",
      "Epoch 15/25\n",
      "\u001b[1m7/7\u001b[0m \u001b[32m━━━━━━━━━━━━━━━━━━━━\u001b[0m\u001b[37m\u001b[0m \u001b[1m2s\u001b[0m 62ms/step - accuracy: 0.9583 - loss: 0.0675\n",
      "Epoch 16/25\n",
      "\u001b[1m7/7\u001b[0m \u001b[32m━━━━━━━━━━━━━━━━━━━━\u001b[0m\u001b[37m\u001b[0m \u001b[1m2s\u001b[0m 65ms/step - accuracy: 0.9873 - loss: 0.0594\n",
      "Epoch 17/25\n",
      "\u001b[1m7/7\u001b[0m \u001b[32m━━━━━━━━━━━━━━━━━━━━\u001b[0m\u001b[37m\u001b[0m \u001b[1m2s\u001b[0m 64ms/step - accuracy: 0.9735 - loss: 0.0563\n",
      "Epoch 18/25\n",
      "\u001b[1m7/7\u001b[0m \u001b[32m━━━━━━━━━━━━━━━━━━━━\u001b[0m\u001b[37m\u001b[0m \u001b[1m2s\u001b[0m 66ms/step - accuracy: 0.9513 - loss: 0.0600\n",
      "Epoch 19/25\n",
      "\u001b[1m7/7\u001b[0m \u001b[32m━━━━━━━━━━━━━━━━━━━━\u001b[0m\u001b[37m\u001b[0m \u001b[1m2s\u001b[0m 61ms/step - accuracy: 0.9786 - loss: 0.0502\n",
      "Epoch 20/25\n",
      "\u001b[1m7/7\u001b[0m \u001b[32m━━━━━━━━━━━━━━━━━━━━\u001b[0m\u001b[37m\u001b[0m \u001b[1m2s\u001b[0m 65ms/step - accuracy: 0.9768 - loss: 0.0462\n",
      "Epoch 21/25\n",
      "\u001b[1m7/7\u001b[0m \u001b[32m━━━━━━━━━━━━━━━━━━━━\u001b[0m\u001b[37m\u001b[0m \u001b[1m2s\u001b[0m 62ms/step - accuracy: 0.9870 - loss: 0.0456\n",
      "Epoch 22/25\n",
      "\u001b[1m7/7\u001b[0m \u001b[32m━━━━━━━━━━━━━━━━━━━━\u001b[0m\u001b[37m\u001b[0m \u001b[1m2s\u001b[0m 66ms/step - accuracy: 0.9942 - loss: 0.0423\n",
      "Epoch 23/25\n",
      "\u001b[1m7/7\u001b[0m \u001b[32m━━━━━━━━━━━━━━━━━━━━\u001b[0m\u001b[37m\u001b[0m \u001b[1m2s\u001b[0m 69ms/step - accuracy: 0.9827 - loss: 0.0391\n",
      "Epoch 24/25\n",
      "\u001b[1m7/7\u001b[0m \u001b[32m━━━━━━━━━━━━━━━━━━━━\u001b[0m\u001b[37m\u001b[0m \u001b[1m2s\u001b[0m 65ms/step - accuracy: 0.9637 - loss: 0.0419\n",
      "Epoch 25/25\n",
      "\u001b[1m7/7\u001b[0m \u001b[32m━━━━━━━━━━━━━━━━━━━━\u001b[0m\u001b[37m\u001b[0m \u001b[1m2s\u001b[0m 61ms/step - accuracy: 0.9854 - loss: 0.0360\n"
     ]
    }
   ],
   "source": [
    "import tensorflow as tf\n",
    "\n",
    "# Load a pre-trained model and fine-tune it\n",
    "base_model = tf.keras.applications.MobileNetV2(input_shape=(128, 128, 3), include_top=False, weights='imagenet')\n",
    "base_model.trainable = False  # Freeze the base model\n",
    "\n",
    "# Define the new model\n",
    "model = tf.keras.models.Sequential([\n",
    "    base_model,\n",
    "    tf.keras.layers.GlobalAveragePooling2D(),\n",
    "    tf.keras.layers.Dropout(0.25),  # Increase dropout rate\n",
    "    tf.keras.layers.Dense(12, activation='sigmoid')\n",
    "])\n",
    "\n",
    "# Compile the model\n",
    "model.compile(optimizer='adam', loss='binary_crossentropy', metrics=['accuracy'])\n",
    "\n",
    "# Train the model with validation data\n",
    "history = model.fit(\n",
    "    train_generator,\n",
    "    epochs=25\n",
    ")\n"
   ]
  },
  {
   "cell_type": "code",
   "execution_count": 52,
   "id": "02cf8ff1-5721-43ca-92e0-0a89ac4d29a3",
   "metadata": {},
   "outputs": [
    {
     "name": "stdout",
     "output_type": "stream",
     "text": [
      "\u001b[1m1/1\u001b[0m \u001b[32m━━━━━━━━━━━━━━━━━━━━\u001b[0m\u001b[37m\u001b[0m \u001b[1m1s\u001b[0m 1s/step - accuracy: 0.7083 - loss: 0.1712\n",
      "Test Loss: 0.17116080224514008, Test Accuracy: 0.7083333134651184\n"
     ]
    }
   ],
   "source": [
    "loss, accuracy = model.evaluate(test_generator)\n",
    "print(f'Test Loss: {loss}, Test Accuracy: {accuracy}')"
   ]
  },
  {
   "cell_type": "code",
   "execution_count": 53,
   "id": "12605203-3a18-4c40-84f5-a4ddefdaf794",
   "metadata": {},
   "outputs": [
    {
     "name": "stdout",
     "output_type": "stream",
     "text": [
      "\u001b[1m1/1\u001b[0m \u001b[32m━━━━━━━━━━━━━━━━━━━━\u001b[0m\u001b[37m\u001b[0m \u001b[1m2s\u001b[0m 2s/step\n"
     ]
    }
   ],
   "source": [
    "predictions = model.predict(test_generator)\n",
    "predicted_classes = predictions.argmax(axis=-1)"
   ]
  },
  {
   "cell_type": "code",
   "execution_count": 54,
   "id": "b253cef1-02ad-4e95-9231-b6ef80c0cfbe",
   "metadata": {},
   "outputs": [
    {
     "name": "stdout",
     "output_type": "stream",
     "text": [
      "Filename: images-1-_jpeg.rf.27fd9e5aa4f310481f20e23895d9d15c.jpg, Predicted Class:  PetroliumJelly\n",
      "Filename: download-5-_jpeg.rf.9b69ce4dbbb2058f38d42ec41caeb398.jpg, Predicted Class:  Napkin\n",
      "Filename: images_jpeg.rf.6a81f460b00de4513ede32c01948f2fb.jpg, Predicted Class:  Powder\n",
      "Filename: hq720_jpg.rf.452a8276c4b12dd07d2c472c2b332ddd.jpg, Predicted Class:  PetroliumJelly\n",
      "Filename: download_jpeg.rf.b3edaf1cfb9702849cf424e9b5b3ee44.jpg, Predicted Class:  AfterShave\n",
      "Filename: download-9-_jpeg.rf.9de97aa023aa35128ba21b33160d83ae.jpg, Predicted Class:  Napkin\n",
      "Filename: 8941100501214_jpg.rf.9e879b8637215a9e7b9a8fcd4ba4a70a.jpg, Predicted Class:  Toothpaste\n",
      "Filename: chamak-top-img-new-update-2023_png.rf.3519ad81a56c7b9c87895fd3bd19c9f6.jpg, Predicted Class:  Lotion\n",
      "Filename: OOJ44hHIeX6fowKcTrMoQj56fXi7xkZiRl7FvqkA_jpg.rf.c7ad5a7ce486556eefd9563745559c69.jpg, Predicted Class:  Powder\n",
      "Filename: 8def6e4622fca704e114c6785f3013dd_jpg.rf.1de911766e40fe266d60b5df7ae23c13.jpg, Predicted Class:  Handwash\n",
      "Filename: download-1-_jpeg.rf.6a6944ecb69647f0d23827f709ad36a7.jpg, Predicted Class:  PetroliumJelly\n",
      "Filename: sepnil-face-mask-1-box-50-pcs_jpeg.rf.267e9033ab03c54a43a3d8e3f950a88c.jpg, Predicted Class:  FaceMask\n",
      "Filename: download-2-_jpeg.rf.e7f89824838786f92be409eaaa2178ee.jpg, Predicted Class:  Oil\n",
      "Filename: decf4ca0-b014-11ec-8899-157ef56a6181_png.rf.bfbae422050b89b9c08e2c80e915b9ff.jpg, Predicted Class:  FabricBrightener\n",
      "Filename: 2966c5076c111bc300e25572771c8c2f_jpg.rf.cae643a63a99c3ed43e086fc1e8a096f.jpg, Predicted Class:  Handwash\n",
      "Filename: 5_jpg.rf.685bf938e5c3fa08f4e3bdd2e093830e.jpg, Predicted Class:  Soap\n",
      "Filename: download-4-_jpeg.rf.af782f22934abae6ba87452f7207f4f8.jpg, Predicted Class:  FaceMask\n",
      "Filename: 5aaccf3f7ca370b63c72e765ca9e33bb_jpg.rf.174f34668b62efca9f1285f7f9706a71.jpg, Predicted Class:  Handwash\n",
      "Filename: Savlon-Instant-Hand-Sanitizer-50-ml_png.rf.6a4f78bc1c8bf8a9d61d42fa0b02b6e4.jpg, Predicted Class:  Handwash\n",
      "Filename: images-1-_jpeg.rf.16e2757c84aaa9a7d96503a661d0ff81.jpg, Predicted Class:  Toothpaste\n",
      "Filename: download_jpeg.rf.db38f0e70e84aa02e8dfb7b359d8d121.jpg, Predicted Class:  Handwash\n",
      "Filename: download-3-_jpeg.rf.719e8f88b7a2d12d6e7c78f05841a960.jpg, Predicted Class:  Handwash\n",
      "Filename: download_jpeg.rf.6d1371654b9a5e4275b08ad5c995a180.jpg, Predicted Class:  Powder\n",
      "Filename: c3111668d2ec202767d4ecff17b0b3c9_jpg.rf.c6e36a7f6a8d39c05dd08b2262065f30.jpg, Predicted Class:  PetroliumJelly\n"
     ]
    }
   ],
   "source": [
    "class_labels = [' AfterShave', ' FabricBrightener', ' FaceMask', ' Handwash', ' Lotion', ' Napkin', ' Oil', ' PetroliumJelly', ' Powder', ' Soap', ' Sweetner', ' Toothpaste']  # Keep the spaces\n",
    "    \n",
    "\n",
    "predicted_class_names = [class_labels[predicted_index] for predicted_index in predicted_classes]\n",
    "\n",
    "for filename, predicted_class in zip(test_data['filename'], predicted_class_names):\n",
    "    print(f'Filename: {filename}, Predicted Class: {predicted_class}')"
   ]
  },
  {
   "cell_type": "code",
   "execution_count": 27,
   "id": "c6c3a486-dfc0-41ae-b245-2764bedb0e05",
   "metadata": {},
   "outputs": [
    {
     "name": "stderr",
     "output_type": "stream",
     "text": [
      "WARNING:absl:You are saving your model as an HDF5 file via `model.save()` or `keras.saving.save_model(model)`. This file format is considered legacy. We recommend using instead the native Keras format, e.g. `model.save('my_model.keras')` or `keras.saving.save_model(model, 'my_model.keras')`. \n"
     ]
    }
   ],
   "source": [
    "model.save('FMCG.h5')"
   ]
  }
 ],
 "metadata": {
  "kernelspec": {
   "display_name": "Python 3 (ipykernel)",
   "language": "python",
   "name": "python3"
  },
  "language_info": {
   "codemirror_mode": {
    "name": "ipython",
    "version": 3
   },
   "file_extension": ".py",
   "mimetype": "text/x-python",
   "name": "python",
   "nbconvert_exporter": "python",
   "pygments_lexer": "ipython3",
   "version": "3.12.4"
  }
 },
 "nbformat": 4,
 "nbformat_minor": 5
}
