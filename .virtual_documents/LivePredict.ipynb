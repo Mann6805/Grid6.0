import os
import pandas as pd
import numpy as np
import cv2
import tensorflow as tf
from tensorflow.keras.preprocessing.image import ImageDataGenerator

# Load the trained model
model = tf.keras.models.load_model('grocery.h5')  # Adjust this to your model path

# Define constants
IMG_SIZE = (128, 128)

# Function to preprocess the input frame
def preprocess_frame(frame):
    # Resize to the model's input size
    resized_frame = cv2.resize(frame, IMG_SIZE)
    # Normalize the pixel values
    normalized_frame = resized_frame / 255.0
    # Add batch dimension
    return np.expand_dims(normalized_frame, axis=0)

# Capture video from webcam
cap = cv2.VideoCapture(0)

while True:
    ret, frame = cap.read()
    if not ret:
        break

    # Preprocess the frame
    input_data = preprocess_frame(frame)

    # Make predictions
    predictions = model.predict(input_data)
    predicted_class = np.argmax(predictions, axis=-1)

    # Class labels
    class_labels = [' apple', ' instant_noodle', ' juice', ' orange', ' sandwich']
    predicted_class_name = class_labels[predicted_class[0]]

    # Display the predictions on the frame
    cv2.putText(frame, f'Predicted Class: {predicted_class_name}', (10, 30), 
                cv2.FONT_HERSHEY_SIMPLEX, 1, (255, 0, 0), 2, cv2.LINE_AA)

    # Show the frame with predictions
    cv2.imshow('Live Object Classification', frame)

    # Break the loop on 'q' key press
    if cv2.waitKey(1) & 0xFF == ord('q'):
        break

# Release the video capture and close windows
cap.release()
cv2.destroyAllWindows()




