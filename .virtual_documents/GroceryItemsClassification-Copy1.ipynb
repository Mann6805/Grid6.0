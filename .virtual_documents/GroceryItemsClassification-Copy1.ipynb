import os
import pandas as pd
import tensorflow as tf
from tensorflow.keras.preprocessing.image import ImageDataGenerator


train_dir = './FMCG/train/images'
csv_data = pd.read_csv('./FMCG/train/_classes.csv')
IMG_SIZE = (128, 128)
BATCH_SIZE = 32


csv_data.columns


datagen = ImageDataGenerator(rescale=1./255)

train_generator = datagen.flow_from_dataframe(
    dataframe=csv_data,
    directory=train_dir,
    x_col='filename',
    y_col=[' AfterShave', ' FabricBrightener', ' FaceMask', ' Handwash', ' Lotion', ' Napkin', ' Oil', ' PetroliumJelly', ' Powder', ' Soap', ' Sweetner', ' Toothpaste'],  # Keep the spaces
    target_size=IMG_SIZE,
    batch_size=BATCH_SIZE,
    class_mode='raw',
    shuffle=True
)


model = tf.keras.models.Sequential([
    tf.keras.layers.Conv2D(32, (3, 3), activation='relu', input_shape=(128, 128, 3)),
    tf.keras.layers.MaxPooling2D(2, 2),
    
    tf.keras.layers.Conv2D(64, (3, 3), activation='relu'),
    tf.keras.layers.MaxPooling2D(2, 2),
    
    tf.keras.layers.Conv2D(128, (3, 3), activation='relu'),
    tf.keras.layers.MaxPooling2D(2, 2),
    
    tf.keras.layers.Flatten(),
    tf.keras.layers.Dense(1024, activation='relu'),
    tf.keras.layers.Dropout(0.5),  # Drop 50% of the units during training
    tf.keras.layers.Dense(12, activation='sigmoid')  # Output layer for 12 classes
])


test_dir = './FMCG/test/images'  # Path to test images
test_csv = './FMCG/test/_classes.csv'  # CSV containing test filenames and labels

test_data = pd.read_csv(test_csv)


test_generator = datagen.flow_from_dataframe(
    dataframe=test_data,
    directory=test_dir,
    y_col=[' AfterShave', ' FabricBrightener', ' FaceMask', ' Handwash', ' Lotion', ' Napkin', ' Oil', ' PetroliumJelly', ' Powder', ' Soap', ' Sweetner', ' Toothpaste'],  # Keep the spaces
    target_size=IMG_SIZE,
    batch_size=BATCH_SIZE,
    class_mode='raw',  
    shuffle=False 
)


model.compile(optimizer='adam', loss='binary_crossentropy', metrics=['accuracy'])

# Train the model
history = model.fit(
    train_generator,
    epochs=10
)


loss, accuracy = model.evaluate(test_generator)
print(f'Test Loss: {loss}, Test Accuracy: {accuracy}')


predictions = model.predict(test_generator)
predicted_classes = predictions.argmax(axis=-1)


class_labels = [' AfterShave', ' FabricBrightener', ' FaceMask', ' Handwash', ' Lotion', ' Napkin', ' Oil', ' PetroliumJelly', ' Powder', ' Soap', ' Sweetner', ' Toothpaste']  # Keep the spaces
    

predicted_class_names = [class_labels[predicted_index] for predicted_index in predicted_classes]

for filename, predicted_class in zip(test_data['filename'], predicted_class_names):
    print(f'Filename: {filename}, Predicted Class: {predicted_class}')


model.save('FMCG.h5')



